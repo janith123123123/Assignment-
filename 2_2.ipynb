{
  "nbformat": 4,
  "nbformat_minor": 0,
  "metadata": {
    "colab": {
      "provenance": [],
      "authorship_tag": "ABX9TyNakhT9oHtNaGwvA4EbOrLS",
      "include_colab_link": true
    },
    "kernelspec": {
      "name": "python3",
      "display_name": "Python 3"
    },
    "language_info": {
      "name": "python"
    }
  },
  "cells": [
    {
      "cell_type": "markdown",
      "metadata": {
        "id": "view-in-github",
        "colab_type": "text"
      },
      "source": [
        "<a href=\"https://colab.research.google.com/github/janith123123123/Assignment-/blob/main/2_2.ipynb\" target=\"_parent\"><img src=\"https://colab.research.google.com/assets/colab-badge.svg\" alt=\"Open In Colab\"/></a>"
      ]
    },
    {
      "cell_type": "code",
      "execution_count": null,
      "metadata": {
        "id": "PPQv449_Ti9U"
      },
      "outputs": [],
      "source": [
        "x = 1\n",
        "total = 0\n",
        "marks = []\n",
        "while x <= 10:\n",
        "    y = int(input(\"please enter the mark : \"))\n",
        "    marks.append(y)\n",
        "    x = x + 1\n",
        "    total = total + y\n",
        "\n",
        "\n",
        "maximum = max(marks)\n",
        "minimum = min(marks)\n",
        "average = total / 10\n",
        "\n",
        "print(f\"The maximum mark is : {maximum}\")\n",
        "print(f\"The minimum mark is : {minimum}\")\n",
        "print(f\"The average mark is : {average}\")"
      ]
    },
    {
      "cell_type": "code",
      "source": [
        "def grade(mark):\n",
        "    if mark > 75:\n",
        "        return \"Your Grade is A\"\n",
        "    elif 65 <= mark <= 75:\n",
        "        return \"Your Grade is B\"\n",
        "    elif 55 <= mark <= 64:\n",
        "        return \"Your Grade is C\"\n",
        "    elif 45 <= mark <= 54:\n",
        "        return \"Your Grade is S\"\n",
        "    else:\n",
        "        return \"Your Grade is F\"\n",
        "\n",
        "x = 1\n",
        "while x <= 5:\n",
        "    y = float(input(\"Enter the mark: \"))\n",
        "    print(grade(y))\n",
        "    x = x + 1"
      ],
      "metadata": {
        "id": "2C41C4cjTkoD"
      },
      "execution_count": null,
      "outputs": []
    },
    {
      "cell_type": "code",
      "source": [
        "total = 0\n",
        "while True:\n",
        "    x = float(input(\"Enter the number: \"))\n",
        "    if x == -999:\n",
        "        print(total)\n",
        "        break\n",
        "    else:\n",
        "        total = total + x"
      ],
      "metadata": {
        "id": "KWMMhRdvT6bL"
      },
      "execution_count": null,
      "outputs": []
    }
  ]
}