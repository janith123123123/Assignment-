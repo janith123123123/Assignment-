{
  "nbformat": 4,
  "nbformat_minor": 0,
  "metadata": {
    "colab": {
      "provenance": [],
      "authorship_tag": "ABX9TyPzXXgPAQgT5S4AEnMam3BR",
      "include_colab_link": true
    },
    "kernelspec": {
      "name": "python3",
      "display_name": "Python 3"
    },
    "language_info": {
      "name": "python"
    }
  },
  "cells": [
    {
      "cell_type": "markdown",
      "metadata": {
        "id": "view-in-github",
        "colab_type": "text"
      },
      "source": [
        "<a href=\"https://colab.research.google.com/github/janith123123123/Assignment-/blob/main/Myname_py.ipynb\" target=\"_parent\"><img src=\"https://colab.research.google.com/assets/colab-badge.svg\" alt=\"Open In Colab\"/></a>"
      ]
    },
    {
      "cell_type": "code",
      "execution_count": null,
      "metadata": {
        "colab": {
          "base_uri": "https://localhost:8080/"
        },
        "id": "RhGaG7jICtop",
        "outputId": "740856cb-2e77-435a-9ef8-cf0baae2461d"
      },
      "outputs": [
        {
          "output_type": "stream",
          "name": "stdout",
          "text": [
            "My name is Janith Nadeesha \n",
            "My school is KG/Swarna Jayanthi M/V\n"
          ]
        }
      ],
      "source": [
        "print(\"My name is Janith Nadeesha \")\n",
        "print(\"My school is KG/Swarna Jayanthi M/V\")"
      ]
    }
  ]
}